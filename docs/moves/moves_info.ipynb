{
 "cells": [
  {
   "cell_type": "markdown",
   "id": "ec979c0b",
   "metadata": {},
   "source": [
    "## setup"
   ]
  },
  {
   "cell_type": "code",
   "execution_count": 56,
   "id": "e84695f7",
   "metadata": {},
   "outputs": [
    {
     "data": {
      "text/plain": [
       "Index(['serial', 'oldName', 'newName', 'type', 'basePower', 'accuracy',\n",
       "       'secondaryEffect', 'effectChance', 'PP', 'priority', 'target',\n",
       "       'description', 'makesContact', 'protectAffected', 'magicCoatAffected',\n",
       "       'snatchAffected', 'mirrorMoveAffected', 'kingsRockAffected'],\n",
       "      dtype='object')"
      ]
     },
     "execution_count": 56,
     "metadata": {},
     "output_type": "execute_result"
    }
   ],
   "source": [
    "import pandas as pd\n",
    "\n",
    "df = pd.read_csv('moves_info.csv')\n",
    "df.columns"
   ]
  },
  {
   "cell_type": "code",
   "execution_count": 57,
   "id": "27764f66",
   "metadata": {},
   "outputs": [],
   "source": [
    "start = 0\n",
    "batchSize = 3\n",
    "stop = start + batchSize\n",
    "pd.set_option('display.max_colwidth', None)"
   ]
  },
  {
   "cell_type": "markdown",
   "id": "87c594fd",
   "metadata": {},
   "source": [
    "## repeat"
   ]
  },
  {
   "cell_type": "code",
   "execution_count": 58,
   "id": "ae966c9a",
   "metadata": {},
   "outputs": [
    {
     "data": {
      "text/html": [
       "<div>\n",
       "<style scoped>\n",
       "    .dataframe tbody tr th:only-of-type {\n",
       "        vertical-align: middle;\n",
       "    }\n",
       "\n",
       "    .dataframe tbody tr th {\n",
       "        vertical-align: top;\n",
       "    }\n",
       "\n",
       "    .dataframe thead th {\n",
       "        text-align: right;\n",
       "    }\n",
       "</style>\n",
       "<table border=\"1\" class=\"dataframe\">\n",
       "  <thead>\n",
       "    <tr style=\"text-align: right;\">\n",
       "      <th></th>\n",
       "      <th>serial</th>\n",
       "      <th>oldName</th>\n",
       "      <th>newName</th>\n",
       "    </tr>\n",
       "  </thead>\n",
       "  <tbody>\n",
       "    <tr>\n",
       "      <th>0</th>\n",
       "      <td>0</td>\n",
       "      <td>POUND</td>\n",
       "      <td>DRAIN PUNCH</td>\n",
       "    </tr>\n",
       "    <tr>\n",
       "      <th>1</th>\n",
       "      <td>1</td>\n",
       "      <td>KARATE_CHOP</td>\n",
       "      <td>KARATE CHOP</td>\n",
       "    </tr>\n",
       "    <tr>\n",
       "      <th>2</th>\n",
       "      <td>2</td>\n",
       "      <td>DOUBLE_SLAP</td>\n",
       "      <td>DOUBLESLAP</td>\n",
       "    </tr>\n",
       "  </tbody>\n",
       "</table>\n",
       "</div>"
      ],
      "text/plain": [
       "   serial      oldName      newName\n",
       "0       0        POUND  DRAIN PUNCH\n",
       "1       1  KARATE_CHOP  KARATE CHOP\n",
       "2       2  DOUBLE_SLAP   DOUBLESLAP"
      ]
     },
     "execution_count": 58,
     "metadata": {},
     "output_type": "execute_result"
    }
   ],
   "source": [
    "moves_map = df[['serial','oldName', 'newName']]\n",
    "moves_map.iloc[start:stop]"
   ]
  },
  {
   "cell_type": "code",
   "execution_count": 59,
   "id": "f4648092",
   "metadata": {},
   "outputs": [
    {
     "data": {
      "text/html": [
       "<div>\n",
       "<style scoped>\n",
       "    .dataframe tbody tr th:only-of-type {\n",
       "        vertical-align: middle;\n",
       "    }\n",
       "\n",
       "    .dataframe tbody tr th {\n",
       "        vertical-align: top;\n",
       "    }\n",
       "\n",
       "    .dataframe thead th {\n",
       "        text-align: right;\n",
       "    }\n",
       "</style>\n",
       "<table border=\"1\" class=\"dataframe\">\n",
       "  <thead>\n",
       "    <tr style=\"text-align: right;\">\n",
       "      <th></th>\n",
       "      <th>serial</th>\n",
       "      <th>newName</th>\n",
       "      <th>secondaryEffect</th>\n",
       "      <th>effectChance</th>\n",
       "      <th>description</th>\n",
       "    </tr>\n",
       "  </thead>\n",
       "  <tbody>\n",
       "    <tr>\n",
       "      <th>0</th>\n",
       "      <td>0</td>\n",
       "      <td>DRAIN PUNCH</td>\n",
       "      <td>ABSORB</td>\n",
       "      <td>0</td>\n",
       "      <td>A tough attack that drains half the damage it inflicted to restore HP.</td>\n",
       "    </tr>\n",
       "    <tr>\n",
       "      <th>1</th>\n",
       "      <td>1</td>\n",
       "      <td>KARATE CHOP</td>\n",
       "      <td>HIGH_CRITICAL</td>\n",
       "      <td>0</td>\n",
       "      <td>The foe is attacked with a sharp chop. It has a high critical-hit ratio.</td>\n",
       "    </tr>\n",
       "    <tr>\n",
       "      <th>2</th>\n",
       "      <td>2</td>\n",
       "      <td>DOUBLESLAP</td>\n",
       "      <td>DOUBLE_HIT</td>\n",
       "      <td>0</td>\n",
       "      <td>The foe is slapped back and forth; two times.</td>\n",
       "    </tr>\n",
       "  </tbody>\n",
       "</table>\n",
       "</div>"
      ],
      "text/plain": [
       "   serial      newName secondaryEffect  effectChance  \\\n",
       "0       0  DRAIN PUNCH          ABSORB             0   \n",
       "1       1  KARATE CHOP   HIGH_CRITICAL             0   \n",
       "2       2   DOUBLESLAP      DOUBLE_HIT             0   \n",
       "\n",
       "                                                                description  \n",
       "0    A tough attack that drains half the damage it inflicted to restore HP.  \n",
       "1  The foe is attacked with a sharp chop. It has a high critical-hit ratio.  \n",
       "2                             The foe is slapped back and forth; two times.  "
      ]
     },
     "execution_count": 59,
     "metadata": {},
     "output_type": "execute_result"
    }
   ],
   "source": [
    "moves_effect = df[['serial', 'newName', 'secondaryEffect', 'effectChance', 'description']]\n",
    "moves_effect.iloc[start:stop]"
   ]
  },
  {
   "cell_type": "code",
   "execution_count": 60,
   "id": "8b23cabe",
   "metadata": {},
   "outputs": [
    {
     "data": {
      "text/html": [
       "<div>\n",
       "<style scoped>\n",
       "    .dataframe tbody tr th:only-of-type {\n",
       "        vertical-align: middle;\n",
       "    }\n",
       "\n",
       "    .dataframe tbody tr th {\n",
       "        vertical-align: top;\n",
       "    }\n",
       "\n",
       "    .dataframe thead th {\n",
       "        text-align: right;\n",
       "    }\n",
       "</style>\n",
       "<table border=\"1\" class=\"dataframe\">\n",
       "  <thead>\n",
       "    <tr style=\"text-align: right;\">\n",
       "      <th></th>\n",
       "      <th>serial</th>\n",
       "      <th>newName</th>\n",
       "      <th>type</th>\n",
       "      <th>basePower</th>\n",
       "      <th>accuracy</th>\n",
       "      <th>PP</th>\n",
       "      <th>priority</th>\n",
       "      <th>target</th>\n",
       "    </tr>\n",
       "  </thead>\n",
       "  <tbody>\n",
       "    <tr>\n",
       "      <th>0</th>\n",
       "      <td>0</td>\n",
       "      <td>DRAIN PUNCH</td>\n",
       "      <td>FIGHTING</td>\n",
       "      <td>40</td>\n",
       "      <td>100</td>\n",
       "      <td>20</td>\n",
       "      <td>0</td>\n",
       "      <td>SELECTED</td>\n",
       "    </tr>\n",
       "    <tr>\n",
       "      <th>1</th>\n",
       "      <td>1</td>\n",
       "      <td>KARATE CHOP</td>\n",
       "      <td>FIGHTING</td>\n",
       "      <td>50</td>\n",
       "      <td>100</td>\n",
       "      <td>25</td>\n",
       "      <td>0</td>\n",
       "      <td>SELECTED</td>\n",
       "    </tr>\n",
       "    <tr>\n",
       "      <th>2</th>\n",
       "      <td>2</td>\n",
       "      <td>DOUBLESLAP</td>\n",
       "      <td>NORMAL</td>\n",
       "      <td>30</td>\n",
       "      <td>100</td>\n",
       "      <td>30</td>\n",
       "      <td>0</td>\n",
       "      <td>SELECTED</td>\n",
       "    </tr>\n",
       "  </tbody>\n",
       "</table>\n",
       "</div>"
      ],
      "text/plain": [
       "   serial      newName      type  basePower  accuracy  PP  priority    target\n",
       "0       0  DRAIN PUNCH  FIGHTING         40       100  20         0  SELECTED\n",
       "1       1  KARATE CHOP  FIGHTING         50       100  25         0  SELECTED\n",
       "2       2   DOUBLESLAP    NORMAL         30       100  30         0  SELECTED"
      ]
     },
     "execution_count": 60,
     "metadata": {},
     "output_type": "execute_result"
    }
   ],
   "source": [
    "moves_info = df[['serial', 'newName', 'type', 'basePower', 'accuracy', 'PP', 'priority', 'target']]\n",
    "moves_info.iloc[start:stop]"
   ]
  },
  {
   "cell_type": "code",
   "execution_count": 61,
   "id": "f91a771a",
   "metadata": {},
   "outputs": [
    {
     "data": {
      "text/html": [
       "<div>\n",
       "<style scoped>\n",
       "    .dataframe tbody tr th:only-of-type {\n",
       "        vertical-align: middle;\n",
       "    }\n",
       "\n",
       "    .dataframe tbody tr th {\n",
       "        vertical-align: top;\n",
       "    }\n",
       "\n",
       "    .dataframe thead th {\n",
       "        text-align: right;\n",
       "    }\n",
       "</style>\n",
       "<table border=\"1\" class=\"dataframe\">\n",
       "  <thead>\n",
       "    <tr style=\"text-align: right;\">\n",
       "      <th></th>\n",
       "      <th>serial</th>\n",
       "      <th>newName</th>\n",
       "      <th>makesContact</th>\n",
       "      <th>protectAffected</th>\n",
       "      <th>magicCoatAffected</th>\n",
       "      <th>snatchAffected</th>\n",
       "      <th>mirrorMoveAffected</th>\n",
       "      <th>kingsRockAffected</th>\n",
       "    </tr>\n",
       "  </thead>\n",
       "  <tbody>\n",
       "    <tr>\n",
       "      <th>0</th>\n",
       "      <td>0</td>\n",
       "      <td>DRAIN PUNCH</td>\n",
       "      <td>1</td>\n",
       "      <td>1</td>\n",
       "      <td>0</td>\n",
       "      <td>0</td>\n",
       "      <td>1</td>\n",
       "      <td>0</td>\n",
       "    </tr>\n",
       "    <tr>\n",
       "      <th>1</th>\n",
       "      <td>1</td>\n",
       "      <td>KARATE CHOP</td>\n",
       "      <td>1</td>\n",
       "      <td>1</td>\n",
       "      <td>0</td>\n",
       "      <td>0</td>\n",
       "      <td>1</td>\n",
       "      <td>1</td>\n",
       "    </tr>\n",
       "    <tr>\n",
       "      <th>2</th>\n",
       "      <td>2</td>\n",
       "      <td>DOUBLESLAP</td>\n",
       "      <td>1</td>\n",
       "      <td>1</td>\n",
       "      <td>0</td>\n",
       "      <td>0</td>\n",
       "      <td>1</td>\n",
       "      <td>1</td>\n",
       "    </tr>\n",
       "  </tbody>\n",
       "</table>\n",
       "</div>"
      ],
      "text/plain": [
       "   serial      newName  makesContact  protectAffected  magicCoatAffected  \\\n",
       "0       0  DRAIN PUNCH             1                1                  0   \n",
       "1       1  KARATE CHOP             1                1                  0   \n",
       "2       2   DOUBLESLAP             1                1                  0   \n",
       "\n",
       "   snatchAffected  mirrorMoveAffected  kingsRockAffected  \n",
       "0               0                   1                  0  \n",
       "1               0                   1                  1  \n",
       "2               0                   1                  1  "
      ]
     },
     "execution_count": 61,
     "metadata": {},
     "output_type": "execute_result"
    }
   ],
   "source": [
    "moves_flags = df[['serial', 'newName', 'makesContact', 'protectAffected', 'magicCoatAffected', 'snatchAffected', 'mirrorMoveAffected', 'kingsRockAffected']]\n",
    "moves_flags.iloc[start:stop]"
   ]
  },
  {
   "cell_type": "code",
   "execution_count": 62,
   "id": "63518eb1",
   "metadata": {},
   "outputs": [],
   "source": [
    "start = stop\n",
    "stop = start + batchSize"
   ]
  }
 ],
 "metadata": {
  "kernelspec": {
   "display_name": "Python 3",
   "language": "python",
   "name": "python3"
  },
  "language_info": {
   "codemirror_mode": {
    "name": "ipython",
    "version": 3
   },
   "file_extension": ".py",
   "mimetype": "text/x-python",
   "name": "python",
   "nbconvert_exporter": "python",
   "pygments_lexer": "ipython3",
   "version": "3.13.2"
  }
 },
 "nbformat": 4,
 "nbformat_minor": 5
}
